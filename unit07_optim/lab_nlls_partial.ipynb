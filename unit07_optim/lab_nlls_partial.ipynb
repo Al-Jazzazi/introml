{
  "cells": [
    {
      "cell_type": "markdown",
      "metadata": {
        "id": "PEbw0lIgNh3W"
      },
      "source": [
        "# Lab:  Nonlinear Least Squares for Modeling Materials\n",
        "\n",
        "Nonlinear least squares (NLLS) is a widely-used method for modeling data.  In NLLS, we wish to fit a model of the form,\n",
        "\n",
        "     yhat = g(x,w)\n",
        "     \n",
        "where `w` is a vector of paramters and `x` is the vector of predictors.  We find `w` by minimizing a least-squares function\n",
        "\n",
        "     f(w) = \\sum_i (y_i - g(x_i,w))^2\n",
        "     \n",
        "where the summation is over training samples `(x_i,y_i)`.  This is similar to linear least-squares, but the function `g(x,w)` may not be linear in `w`.  In general, this optimization has no closed-form expression.  So numerical optimization must be used.  \n",
        "\n",
        "In this lab, we will implement gradient descent on NLLS in a problem of physical modeling of materials.  Specifically, we will estimate parameters for expansion of copper as a function of temperature using a real dataset.  In doing this lab, you will learn to:\n",
        "* Set up a nonlinear least squares as an unconstrained optimization function\n",
        "* Compute initial parameter estimates for a simple rational model\n",
        "* Compute the gradients of the least squares objective\n",
        "* Implement gradient descent for minimizing the objective\n",
        "* Implement momentum gradient descent\n",
        "* Visualize the convergence of the algorithm\n",
        "\n",
        "We first import some key packages."
      ]
    },
    {
      "cell_type": "code",
      "execution_count": 1,
      "metadata": {
        "id": "NrdynS7mNh3X"
      },
      "outputs": [],
      "source": [
        "import pandas as pd\n",
        "import numpy as np\n",
        "import matplotlib.pyplot as plt\n",
        "from sklearn.linear_model import Ridge, LinearRegression"
      ]
    },
    {
      "cell_type": "markdown",
      "metadata": {
        "id": "mlJNb3ZQNh3X"
      },
      "source": [
        "## Load the Data\n",
        "\n",
        "The NIST agency has an excellent [nonlinear regression website](https://www.itl.nist.gov/div898/strd/nls/nls_main.shtml) that has several datasets for nonlinear regression problems.  In this lab, we will use the data from a NIST study involving the thermal expansion of copper. The response variable is the coefficient of thermal expansion, and the predictor variable is temperature in degrees kelvin.  \n",
        "\n",
        "> Hahn, T., NIST (1979), Copper Thermal Expansion Study.  (unpublished}\n",
        "\n",
        "You can download the data as follows."
      ]
    },
    {
      "cell_type": "code",
      "execution_count": 2,
      "metadata": {
        "colab": {
          "base_uri": "https://localhost:8080/",
          "height": 206
        },
        "id": "pTh_umw2Nh3Y",
        "outputId": "7d5dbed0-2c1c-49cd-b927-8c3fd83cd89e"
      },
      "outputs": [
        {
          "output_type": "execute_result",
          "data": {
            "text/plain": [
              "      y0     x0  dummy\n",
              "0  0.591  24.41    NaN\n",
              "1  1.547  34.82    NaN\n",
              "2  2.902  44.09    NaN\n",
              "3  2.894  45.07    NaN\n",
              "4  4.703  54.98    NaN"
            ],
            "text/html": [
              "\n",
              "  <div id=\"df-419901c0-491e-43b8-96bf-4530befe4988\" class=\"colab-df-container\">\n",
              "    <div>\n",
              "<style scoped>\n",
              "    .dataframe tbody tr th:only-of-type {\n",
              "        vertical-align: middle;\n",
              "    }\n",
              "\n",
              "    .dataframe tbody tr th {\n",
              "        vertical-align: top;\n",
              "    }\n",
              "\n",
              "    .dataframe thead th {\n",
              "        text-align: right;\n",
              "    }\n",
              "</style>\n",
              "<table border=\"1\" class=\"dataframe\">\n",
              "  <thead>\n",
              "    <tr style=\"text-align: right;\">\n",
              "      <th></th>\n",
              "      <th>y0</th>\n",
              "      <th>x0</th>\n",
              "      <th>dummy</th>\n",
              "    </tr>\n",
              "  </thead>\n",
              "  <tbody>\n",
              "    <tr>\n",
              "      <th>0</th>\n",
              "      <td>0.591</td>\n",
              "      <td>24.41</td>\n",
              "      <td>NaN</td>\n",
              "    </tr>\n",
              "    <tr>\n",
              "      <th>1</th>\n",
              "      <td>1.547</td>\n",
              "      <td>34.82</td>\n",
              "      <td>NaN</td>\n",
              "    </tr>\n",
              "    <tr>\n",
              "      <th>2</th>\n",
              "      <td>2.902</td>\n",
              "      <td>44.09</td>\n",
              "      <td>NaN</td>\n",
              "    </tr>\n",
              "    <tr>\n",
              "      <th>3</th>\n",
              "      <td>2.894</td>\n",
              "      <td>45.07</td>\n",
              "      <td>NaN</td>\n",
              "    </tr>\n",
              "    <tr>\n",
              "      <th>4</th>\n",
              "      <td>4.703</td>\n",
              "      <td>54.98</td>\n",
              "      <td>NaN</td>\n",
              "    </tr>\n",
              "  </tbody>\n",
              "</table>\n",
              "</div>\n",
              "    <div class=\"colab-df-buttons\">\n",
              "\n",
              "  <div class=\"colab-df-container\">\n",
              "    <button class=\"colab-df-convert\" onclick=\"convertToInteractive('df-419901c0-491e-43b8-96bf-4530befe4988')\"\n",
              "            title=\"Convert this dataframe to an interactive table.\"\n",
              "            style=\"display:none;\">\n",
              "\n",
              "  <svg xmlns=\"http://www.w3.org/2000/svg\" height=\"24px\" viewBox=\"0 -960 960 960\">\n",
              "    <path d=\"M120-120v-720h720v720H120Zm60-500h600v-160H180v160Zm220 220h160v-160H400v160Zm0 220h160v-160H400v160ZM180-400h160v-160H180v160Zm440 0h160v-160H620v160ZM180-180h160v-160H180v160Zm440 0h160v-160H620v160Z\"/>\n",
              "  </svg>\n",
              "    </button>\n",
              "\n",
              "  <style>\n",
              "    .colab-df-container {\n",
              "      display:flex;\n",
              "      gap: 12px;\n",
              "    }\n",
              "\n",
              "    .colab-df-convert {\n",
              "      background-color: #E8F0FE;\n",
              "      border: none;\n",
              "      border-radius: 50%;\n",
              "      cursor: pointer;\n",
              "      display: none;\n",
              "      fill: #1967D2;\n",
              "      height: 32px;\n",
              "      padding: 0 0 0 0;\n",
              "      width: 32px;\n",
              "    }\n",
              "\n",
              "    .colab-df-convert:hover {\n",
              "      background-color: #E2EBFA;\n",
              "      box-shadow: 0px 1px 2px rgba(60, 64, 67, 0.3), 0px 1px 3px 1px rgba(60, 64, 67, 0.15);\n",
              "      fill: #174EA6;\n",
              "    }\n",
              "\n",
              "    .colab-df-buttons div {\n",
              "      margin-bottom: 4px;\n",
              "    }\n",
              "\n",
              "    [theme=dark] .colab-df-convert {\n",
              "      background-color: #3B4455;\n",
              "      fill: #D2E3FC;\n",
              "    }\n",
              "\n",
              "    [theme=dark] .colab-df-convert:hover {\n",
              "      background-color: #434B5C;\n",
              "      box-shadow: 0px 1px 3px 1px rgba(0, 0, 0, 0.15);\n",
              "      filter: drop-shadow(0px 1px 2px rgba(0, 0, 0, 0.3));\n",
              "      fill: #FFFFFF;\n",
              "    }\n",
              "  </style>\n",
              "\n",
              "    <script>\n",
              "      const buttonEl =\n",
              "        document.querySelector('#df-419901c0-491e-43b8-96bf-4530befe4988 button.colab-df-convert');\n",
              "      buttonEl.style.display =\n",
              "        google.colab.kernel.accessAllowed ? 'block' : 'none';\n",
              "\n",
              "      async function convertToInteractive(key) {\n",
              "        const element = document.querySelector('#df-419901c0-491e-43b8-96bf-4530befe4988');\n",
              "        const dataTable =\n",
              "          await google.colab.kernel.invokeFunction('convertToInteractive',\n",
              "                                                    [key], {});\n",
              "        if (!dataTable) return;\n",
              "\n",
              "        const docLinkHtml = 'Like what you see? Visit the ' +\n",
              "          '<a target=\"_blank\" href=https://colab.research.google.com/notebooks/data_table.ipynb>data table notebook</a>'\n",
              "          + ' to learn more about interactive tables.';\n",
              "        element.innerHTML = '';\n",
              "        dataTable['output_type'] = 'display_data';\n",
              "        await google.colab.output.renderOutput(dataTable, element);\n",
              "        const docLink = document.createElement('div');\n",
              "        docLink.innerHTML = docLinkHtml;\n",
              "        element.appendChild(docLink);\n",
              "      }\n",
              "    </script>\n",
              "  </div>\n",
              "\n",
              "\n",
              "<div id=\"df-f7377cb6-3e15-46af-be52-3407f4f165f4\">\n",
              "  <button class=\"colab-df-quickchart\" onclick=\"quickchart('df-f7377cb6-3e15-46af-be52-3407f4f165f4')\"\n",
              "            title=\"Suggest charts\"\n",
              "            style=\"display:none;\">\n",
              "\n",
              "<svg xmlns=\"http://www.w3.org/2000/svg\" height=\"24px\"viewBox=\"0 0 24 24\"\n",
              "     width=\"24px\">\n",
              "    <g>\n",
              "        <path d=\"M19 3H5c-1.1 0-2 .9-2 2v14c0 1.1.9 2 2 2h14c1.1 0 2-.9 2-2V5c0-1.1-.9-2-2-2zM9 17H7v-7h2v7zm4 0h-2V7h2v10zm4 0h-2v-4h2v4z\"/>\n",
              "    </g>\n",
              "</svg>\n",
              "  </button>\n",
              "\n",
              "<style>\n",
              "  .colab-df-quickchart {\n",
              "      --bg-color: #E8F0FE;\n",
              "      --fill-color: #1967D2;\n",
              "      --hover-bg-color: #E2EBFA;\n",
              "      --hover-fill-color: #174EA6;\n",
              "      --disabled-fill-color: #AAA;\n",
              "      --disabled-bg-color: #DDD;\n",
              "  }\n",
              "\n",
              "  [theme=dark] .colab-df-quickchart {\n",
              "      --bg-color: #3B4455;\n",
              "      --fill-color: #D2E3FC;\n",
              "      --hover-bg-color: #434B5C;\n",
              "      --hover-fill-color: #FFFFFF;\n",
              "      --disabled-bg-color: #3B4455;\n",
              "      --disabled-fill-color: #666;\n",
              "  }\n",
              "\n",
              "  .colab-df-quickchart {\n",
              "    background-color: var(--bg-color);\n",
              "    border: none;\n",
              "    border-radius: 50%;\n",
              "    cursor: pointer;\n",
              "    display: none;\n",
              "    fill: var(--fill-color);\n",
              "    height: 32px;\n",
              "    padding: 0;\n",
              "    width: 32px;\n",
              "  }\n",
              "\n",
              "  .colab-df-quickchart:hover {\n",
              "    background-color: var(--hover-bg-color);\n",
              "    box-shadow: 0 1px 2px rgba(60, 64, 67, 0.3), 0 1px 3px 1px rgba(60, 64, 67, 0.15);\n",
              "    fill: var(--button-hover-fill-color);\n",
              "  }\n",
              "\n",
              "  .colab-df-quickchart-complete:disabled,\n",
              "  .colab-df-quickchart-complete:disabled:hover {\n",
              "    background-color: var(--disabled-bg-color);\n",
              "    fill: var(--disabled-fill-color);\n",
              "    box-shadow: none;\n",
              "  }\n",
              "\n",
              "  .colab-df-spinner {\n",
              "    border: 2px solid var(--fill-color);\n",
              "    border-color: transparent;\n",
              "    border-bottom-color: var(--fill-color);\n",
              "    animation:\n",
              "      spin 1s steps(1) infinite;\n",
              "  }\n",
              "\n",
              "  @keyframes spin {\n",
              "    0% {\n",
              "      border-color: transparent;\n",
              "      border-bottom-color: var(--fill-color);\n",
              "      border-left-color: var(--fill-color);\n",
              "    }\n",
              "    20% {\n",
              "      border-color: transparent;\n",
              "      border-left-color: var(--fill-color);\n",
              "      border-top-color: var(--fill-color);\n",
              "    }\n",
              "    30% {\n",
              "      border-color: transparent;\n",
              "      border-left-color: var(--fill-color);\n",
              "      border-top-color: var(--fill-color);\n",
              "      border-right-color: var(--fill-color);\n",
              "    }\n",
              "    40% {\n",
              "      border-color: transparent;\n",
              "      border-right-color: var(--fill-color);\n",
              "      border-top-color: var(--fill-color);\n",
              "    }\n",
              "    60% {\n",
              "      border-color: transparent;\n",
              "      border-right-color: var(--fill-color);\n",
              "    }\n",
              "    80% {\n",
              "      border-color: transparent;\n",
              "      border-right-color: var(--fill-color);\n",
              "      border-bottom-color: var(--fill-color);\n",
              "    }\n",
              "    90% {\n",
              "      border-color: transparent;\n",
              "      border-bottom-color: var(--fill-color);\n",
              "    }\n",
              "  }\n",
              "</style>\n",
              "\n",
              "  <script>\n",
              "    async function quickchart(key) {\n",
              "      const quickchartButtonEl =\n",
              "        document.querySelector('#' + key + ' button');\n",
              "      quickchartButtonEl.disabled = true;  // To prevent multiple clicks.\n",
              "      quickchartButtonEl.classList.add('colab-df-spinner');\n",
              "      try {\n",
              "        const charts = await google.colab.kernel.invokeFunction(\n",
              "            'suggestCharts', [key], {});\n",
              "      } catch (error) {\n",
              "        console.error('Error during call to suggestCharts:', error);\n",
              "      }\n",
              "      quickchartButtonEl.classList.remove('colab-df-spinner');\n",
              "      quickchartButtonEl.classList.add('colab-df-quickchart-complete');\n",
              "    }\n",
              "    (() => {\n",
              "      let quickchartButtonEl =\n",
              "        document.querySelector('#df-f7377cb6-3e15-46af-be52-3407f4f165f4 button');\n",
              "      quickchartButtonEl.style.display =\n",
              "        google.colab.kernel.accessAllowed ? 'block' : 'none';\n",
              "    })();\n",
              "  </script>\n",
              "</div>\n",
              "\n",
              "    </div>\n",
              "  </div>\n"
            ],
            "application/vnd.google.colaboratory.intrinsic+json": {
              "type": "dataframe",
              "variable_name": "df",
              "summary": "{\n  \"name\": \"df\",\n  \"rows\": 236,\n  \"fields\": [\n    {\n      \"column\": \"y0\",\n      \"properties\": {\n        \"dtype\": \"number\",\n        \"std\": 5.768686314274602,\n        \"min\": 0.08,\n        \"max\": 21.085,\n        \"num_unique_values\": 234,\n        \"samples\": [\n          14.067,\n          18.404,\n          2.813\n        ],\n        \"semantic_type\": \"\",\n        \"description\": \"\"\n      }\n    },\n    {\n      \"column\": \"x0\",\n      \"properties\": {\n        \"dtype\": \"number\",\n        \"std\": 227.44618345431448,\n        \"min\": 14.13,\n        \"max\": 851.61,\n        \"num_unique_values\": 235,\n        \"samples\": [\n          163.19,\n          523.03,\n          44.18\n        ],\n        \"semantic_type\": \"\",\n        \"description\": \"\"\n      }\n    },\n    {\n      \"column\": \"dummy\",\n      \"properties\": {\n        \"dtype\": \"number\",\n        \"std\": null,\n        \"min\": null,\n        \"max\": null,\n        \"num_unique_values\": 0,\n        \"samples\": [],\n        \"semantic_type\": \"\",\n        \"description\": \"\"\n      }\n    }\n  ]\n}"
            }
          },
          "metadata": {},
          "execution_count": 2
        }
      ],
      "source": [
        "url = 'https://itl.nist.gov/div898/strd/nls/data/LINKS/DATA/Hahn1.dat'\n",
        "df = pd.read_csv(url, skiprows=60, sep=' ',skipinitialspace=True, names=['y0','x0','dummy'])\n",
        "df.head()"
      ]
    },
    {
      "cell_type": "markdown",
      "metadata": {
        "id": "8esWqoxxNh3Y"
      },
      "source": [
        "Extract the `x0` and `y0` into arrays.  Rescale, `x0` and `y0` to values between `0` and `1` by dividing `x0` and `y0` by the maximum value.  Store the scaled values in vectors `x` and `y`.  The rescaling will help with the conditioning of the fitting.  Plot, `y` vs. `x`."
      ]
    },
    {
      "cell_type": "code",
      "execution_count": 3,
      "metadata": {
        "colab": {
          "base_uri": "https://localhost:8080/",
          "height": 448
        },
        "id": "eTK5bk5yNh3Y",
        "outputId": "6d59689b-7654-4b55-e6eb-e0301d17374d"
      },
      "outputs": [
        {
          "output_type": "execute_result",
          "data": {
            "text/plain": [
              "[<matplotlib.lines.Line2D at 0x7e24700cb880>]"
            ]
          },
          "metadata": {},
          "execution_count": 3
        },
        {
          "output_type": "display_data",
          "data": {
            "text/plain": [
              "<Figure size 640x480 with 1 Axes>"
            ],
            "image/png": "[encoded data removed]"
          },
          "metadata": {}
        }
      ],
      "source": [
        "# TODO\n",
        "x0 = np.array(df[\"x0\"])\n",
        "y0 = np.array(df[\"y0\"])\n",
        "x = x0/np.max(x0)\n",
        "y = y0/np.max(y0)\n",
        "plt.plot(x,y, 'o')"
      ]
    },
    {
      "cell_type": "markdown",
      "metadata": {
        "id": "P81JnnNsNh3Y"
      },
      "source": [
        "To make the problem a little more challenging, we will add some noise.  Add random Gaussian noise with mean 0 and std. dev = 0.02 to `y`.  Store the noisy results in `yn`. You can use the `np.random.normal()` function to add Gaussian noise. Plot `yn` vs. `x`."
      ]
    },
    {
      "cell_type": "code",
      "execution_count": 4,
      "metadata": {
        "colab": {
          "base_uri": "https://localhost:8080/",
          "height": 448
        },
        "id": "4t1UX2zNNh3Y",
        "outputId": "ae3469cf-8c71-4b78-c4d0-c86659d89aa6"
      },
      "outputs": [
        {
          "output_type": "execute_result",
          "data": {
            "text/plain": [
              "[<matplotlib.lines.Line2D at 0x7e247005a080>]"
            ]
          },
          "metadata": {},
          "execution_count": 4
        },
        {
          "output_type": "display_data",
          "data": {
            "text/plain": [
              "<Figure size 640x480 with 1 Axes>"
            ],
            "image/png": "[encoded data removed]"
          },
          "metadata": {}
        }
      ],
      "source": [
        "# TODO\n",
        "mu, sigma = 0, 0.01 # mean and standard deviation\n",
        "noise = np.random.normal(mu, sigma, y.size)\n",
        "yn = y + noise\n",
        "plt.plot(x,yn, 'o')"
      ]
    },
    {
      "cell_type": "markdown",
      "metadata": {
        "id": "enSeXK4fNh3Y"
      },
      "source": [
        "Split the data `(x,yn)` into training and test.  Let `xtr,ytr` be training data and `xts,yts` be the test data.  You can use the `train_test_split` function.  Set `test_size=0.33` so that 1/3 of the samples are held out for test."
      ]
    },
    {
      "cell_type": "code",
      "execution_count": 49,
      "metadata": {
        "id": "PKX_T-syNh3Y"
      },
      "outputs": [],
      "source": [
        "from sklearn.model_selection import train_test_split\n",
        "\n",
        "# TODO\n",
        "xtr, xts, ytr, yts = train_test_split(x,yn,test_size=0.33, random_state=42)"
      ]
    },
    {
      "cell_type": "markdown",
      "metadata": {
        "id": "FSX6ucnlNh3Y"
      },
      "source": [
        "## Initial Fit for a Rational Model\n",
        "\n",
        "The [NIST website](https://www.itl.nist.gov/div898/strd/nls/data/hahn1.shtml) suggests using a *rational* model of the form,\n",
        "\n",
        "      yhat = (a[0] + a[1]*x + ... + a[d]*x^d)/(1 + b[0]*x + ... + b[d-1]*x^d)\n",
        "      \n",
        "with `d=3`.  The model parameters are `w = [a[0],...,a[d],b[0],...,b[d-1]]` so there are `2d+1` parameters total.    Complete the function below that takes vectors `w` and `x` and predicts a set of values `yhat` using the above model.\n",
        "   "
      ]
    },
    {
      "cell_type": "code",
      "execution_count": 67,
      "metadata": {
        "id": "LsbWjMLmNh3Y"
      },
      "outputs": [],
      "source": [
        "def predict(w, x):\n",
        "    # Determine polynomial degree from the length of w\n",
        "    d = (len(w) - 1) // 2\n",
        "\n",
        "    # Extract a and b from w\n",
        "    a = w[:d+1]           # First d+1 elements for a\n",
        "    b = w[d+1:]           # Remaining d elements for b\n",
        "    # Compute yhat\n",
        "    num = np.polyval(a[::-1], x)             # Evaluate numerator polynomial\n",
        "    denom = (1 + np.polyval(b[::-1], x))\n",
        "\n",
        "    yhat = num / denom\n",
        "\n",
        "    return yhat\n",
        "\n"
      ]
    },
    {
      "cell_type": "markdown",
      "metadata": {
        "id": "QgaDq3lFNh3Y"
      },
      "source": [
        "When we fit with a nonlinear model, most methods only get convergence to a local minima.  So, you need a good initial condition.  For a rational model, one way to get is to realize that if:\n",
        "\n",
        "\n",
        "    y ~= (a[0] + a[1]*x + ... + a[d]*x^d)/(1 + b[0]*x + ... + b[d-1]*x^d)\n",
        "    \n",
        "Then:\n",
        "\n",
        "    y ~= a[0] + a[1]*x + ... + a[d]*x^d - b[0]*x*y + ... - b[d-1]*x^d*y.\n",
        "    \n",
        "So, we can solve for the the parameters `w = [a,b]` from linear regression of the predictors,\n",
        "\n",
        "    Z[i,:] = [ x[i], ... , x[i]**d, y[i]*x[i], ... , y[i}*x[i]**d ]"
      ]
    },
    {
      "cell_type": "code",
      "execution_count": 69,
      "metadata": {
        "colab": {
          "base_uri": "https://localhost:8080/"
        },
        "id": "FYdpv5wJNh3Y",
        "outputId": "bf51f4a9-1709-45ff-c830-553dea30f1b8"
      },
      "outputs": [
        {
          "output_type": "stream",
          "name": "stdout",
          "text": [
            "[ 11.90142851 -43.40763496  35.61006331  -5.56522522  34.5362988\n",
            " -31.83210893  -0.28344739]\n"
          ]
        }
      ],
      "source": [
        "d = 3\n",
        "# TODO.  Create the transformed feature matrix\n",
        "y = np.array(y)\n",
        "\n",
        "powers = np.arange(1, d + 1)\n",
        "x_powers = np.array([x**p for p in powers]).T\n",
        "y_powers = y[:, np.newaxis] * x_powers\n",
        "Z = np.column_stack((x_powers, y_powers))\n",
        "\n",
        "\n",
        "\n",
        "Ztr, Zts = train_test_split(Z, test_size=0.33, random_state=42)\n",
        "\n",
        "# TODO.  Fit with parameters with linear regression\n",
        "regr = LinearRegression()\n",
        "regr.fit(Ztr, ytr)\n",
        "yhat = regr.predict(Zts)\n",
        "\n",
        "# TODO\n",
        "# Extract the parameters from regr.coef_ and regr.intercept_ and store the parameter vector in winit\n",
        "winit = np.append(regr.coef_, [regr.intercept_ ])\n",
        "print(winit)\n",
        "\n",
        "\n",
        "\n",
        "\n",
        "\n",
        "\n",
        "\n"
      ]
    },
    {
      "cell_type": "code",
      "source": [],
      "metadata": {
        "id": "pivzlyhtcZUU"
      },
      "execution_count": 7,
      "outputs": []
    },
    {
      "cell_type": "markdown",
      "metadata": {
        "id": "pkUXPHHNNh3Z"
      },
      "source": [
        "Now plot the predicted values of the `yhat` vs. `x` using your estimated parameter `winit` for 1000 values `x` in `[0,1]`.  On the same plot, plot `yts` vs. `xts`.  You will see that you get a horrible fit."
      ]
    },
    {
      "cell_type": "code",
      "execution_count": 70,
      "metadata": {
        "colab": {
          "base_uri": "https://localhost:8080/",
          "height": 466
        },
        "id": "EglfAre8Nh3Z",
        "outputId": "39d8091f-a5ff-4bcb-c9c9-1fad3355749d"
      },
      "outputs": [
        {
          "output_type": "stream",
          "name": "stdout",
          "text": [
            "0.3321434057424956\n"
          ]
        },
        {
          "output_type": "execute_result",
          "data": {
            "text/plain": [
              "[<matplotlib.lines.Line2D at 0x7e246732d390>]"
            ]
          },
          "metadata": {},
          "execution_count": 70
        },
        {
          "output_type": "display_data",
          "data": {
            "text/plain": [
              "<Figure size 640x480 with 1 Axes>"
            ],
            "image/png": "[encoded data removed]"
          },
          "metadata": {}
        }
      ],
      "source": [
        "# TODO\n",
        "xp = np.linspace(0, 1, 1000)\n",
        "\n",
        "\n",
        "yhat = predict(winit,xp)\n",
        "print(yhat[3])\n",
        "\n",
        "plt.plot(xp, yhat, 'r')\n",
        "plt.plot(xts, yts, 'o')\n",
        "\n",
        "\n"
      ]
    },
    {
      "cell_type": "markdown",
      "metadata": {
        "id": "0-M0P5FRNh3Z"
      },
      "source": [
        "The reason the previous fit is poor is that the denominator in `yhat` goes close to zero.   To avoid this problem, we can use Ridge regression, to try to keep the parameters close to zero.  Re-run the fit above with `Ridge` with `alpha = 1e-3`. You should see you get a reasonable, but not perfect fit."
      ]
    },
    {
      "cell_type": "code",
      "execution_count": 77,
      "metadata": {
        "colab": {
          "base_uri": "https://localhost:8080/",
          "height": 487
        },
        "id": "x_W3M77CNh3Z",
        "outputId": "7ccadde5-7c50-4d06-b082-38e6ceebb052"
      },
      "outputs": [
        {
          "output_type": "stream",
          "name": "stderr",
          "text": [
            "WARNING:matplotlib.legend:No artists with labels found to put in legend.  Note that artists whose label start with an underscore are ignored when legend() is called with no argument.\n"
          ]
        },
        {
          "output_type": "display_data",
          "data": {
            "text/plain": [
              "<Figure size 640x480 with 1 Axes>"
            ],
            "image/png": "[encoded data removed]"
          },
          "metadata": {}
        }
      ],
      "source": [
        "# TODO.  Fit with parameters with linear regression\n",
        "\n",
        "regr = Ridge(alpha=1e-3)\n",
        "regr.fit(Ztr, ytr)\n",
        "yhat = regr.predict(Zts)\n",
        "# TODO\n",
        "# Extract the parameters from regr.coef_ and regr.intercept_\n",
        "winit = np.append( regr.coef_,[regr.intercept_] )\n",
        "\n",
        "# TODO\n",
        "# Plot the results as above.\n",
        "\n",
        "xp = np.linspace(0,1, 1000)\n",
        "\n",
        "\n",
        "\n",
        "yhat_2 = predict(winit,xp)\n",
        "\n",
        "plt.plot(xp, yhat_2, 'r')\n",
        "plt.plot(xts, yts, 'o')\n",
        "plt.xlabel(\"x\")\n",
        "plt.ylabel(\"y\")\n",
        "plt.legend()\n",
        "plt.show()\n",
        "\n",
        "\n",
        "\n",
        "\n",
        "\n",
        "\n"
      ]
    },
    {
      "cell_type": "markdown",
      "metadata": {
        "id": "xYK-hDrkNh3Z"
      },
      "source": [
        "## Creating a Loss Function\n",
        "\n",
        "We can now use gradient descent to improve our initial estimate.  Complete the following function to compute\n",
        "\n",
        "    f(w) = 0.5*\\sum_i (y[i] - yhat[i])^2\n",
        "    \n",
        "and `fgrad`, the gradient of `f(w)`."
      ]
    },
    {
      "cell_type": "code",
      "execution_count": 79,
      "metadata": {
        "id": "wYRWYrXyNh3Z"
      },
      "outputs": [],
      "source": [
        "def feval(w, x, y):\n",
        "\n",
        "    # Parse w into coefficients a and b\n",
        "    a = w[:d + 1]\n",
        "    b = w[d + 1:]\n",
        "\n",
        "    # TODO.  Znum[i,j] = x[i]**j\n",
        "    Znum = np.array([x ** j for j in range(d + 1)]).T\n",
        "\n",
        "    # TODO.  Zden[i,j] = x[i]**(j+1)\n",
        "    Zden = np.array([x ** (j + 1) for j in range(d)]).T\n",
        "\n",
        "  # TODO.  Compute yhat\n",
        "    # Compute the numerator and denominator\n",
        "    num = Znum @ a\n",
        "    denom = 1 + Zden @ b\n",
        "    yhat = num / denom\n",
        "\n",
        "    # TODO.  Compute loss\n",
        "    # f = ...\n",
        "    residuals = y - yhat\n",
        "    f = 0.5 * np.sum(residuals ** 2)\n",
        "\n",
        "    # TODO.  Compute gradients\n",
        "    # fgrad = ...\n",
        "    grad_a = -np.sum((residuals / denom)[:, np.newaxis] * Znum, axis=0)\n",
        "\n",
        "    # Gradients with respect to `b`\n",
        "    grad_b = np.sum((residuals * yhat / denom)[:, np.newaxis] * Zden, axis=0)\n",
        "\n",
        "    # Combine gradients into a single vector\n",
        "    fgrad = np.concatenate([grad_a, grad_b])\n",
        "\n",
        "    return f, fgrad"
      ]
    },
    {
      "cell_type": "markdown",
      "metadata": {
        "id": "q_VFHMAwNh3Z"
      },
      "source": [
        "Test the gradient function:\n",
        "* Take `w0=winit` and compute `f0,fgrad0 = feval(w0,xtr,ytr)`\n",
        "* Take `w1` very close to `w0` and compute `f1,fgrad1 = feval(w1,xtr,ytr)`\n",
        "* Verify that `f1-f0` is close to the predicted value based on the gradient."
      ]
    },
    {
      "cell_type": "code",
      "execution_count": 84,
      "metadata": {
        "colab": {
          "base_uri": "https://localhost:8080/"
        },
        "id": "0ev0OZAmNh3Z",
        "outputId": "dd5f292c-bdb2-478e-e036-f8cda5f08b3d"
      },
      "outputs": [
        {
          "output_type": "stream",
          "name": "stdout",
          "text": [
            "Gradient check: actual change = 34.72390459320741  predicted change = 34.715883621408224\n"
          ]
        }
      ],
      "source": [
        "# TODO\n",
        "w0 = winit\n",
        "f0,fgrad0 = feval(w0,xtr,ytr)\n",
        "w1 = winit + 0.00001\n",
        "f1,fgrad1 = feval(w1,xtr,ytr)\n",
        "\n",
        "\n",
        "predicted_change =np.dot(fgrad0, w1 - w0)\n",
        "actual_change = f1-f0\n",
        "\n",
        "print(\"Gradient check: actual change =\", actual_change, \" predicted change =\", predicted_change)"
      ]
    },
    {
      "cell_type": "markdown",
      "metadata": {
        "id": "ZYL725T3Nh3Z"
      },
      "source": [
        "## Implement gradient descent\n",
        "\n",
        "We will now try to minimize the loss function with gradient descent.  Using the function `feval` defined above, implement gradient descent.  Run gradient descent with a step size of `alpha=1e-6` starting at `w=winit`.  Run it for `nit=10000` iterations.  Compute `fgd[it]`= the objective function on iteration `it`.  Plot `fgd[it]` vs. `it`.  \n",
        "\n",
        "You should see that the training loss decreases, but it still hasn't converged after 10000 iterations."
      ]
    },
    {
      "cell_type": "code",
      "execution_count": 81,
      "metadata": {
        "colab": {
          "base_uri": "https://localhost:8080/",
          "height": 490
        },
        "id": "PAARYVpqNh3Z",
        "outputId": "6fe767e5-50dc-43a1-bdd4-230151a1559a"
      },
      "outputs": [
        {
          "output_type": "execute_result",
          "data": {
            "text/plain": [
              "Text(0.5, 1.0, 'Gradient Descent Convergence')"
            ]
          },
          "metadata": {},
          "execution_count": 81
        },
        {
          "output_type": "display_data",
          "data": {
            "text/plain": [
              "<Figure size 640x480 with 1 Axes>"
            ],
            "image/png": "[encoded data removed]"
          },
          "metadata": {}
        }
      ],
      "source": [
        "# TODO\n",
        "# fgd = ...\n",
        "nit = 10000\n",
        "step = 1e-6\n",
        "\n"
      ]
    },
    {
      "cell_type": "markdown",
      "metadata": {
        "id": "yToHUE3rNh3Z"
      },
      "source": [
        "Now, try to get a faster convergence with adaptive step-size using the Armijo rule. Implement the gradient descent with adaptive step size.  Let `fadapt[it]` be the loss function on iteration `it`.  Plot `fadapt[it]` and `fgd[it]` vs. `it` on the same graph.  You should see a slight improvement, but not much."
      ]
    },
    {
      "cell_type": "code",
      "execution_count": null,
      "metadata": {
        "scrolled": true,
        "id": "AdSnx1NKNh3Z"
      },
      "outputs": [],
      "source": [
        "# TODO\n",
        "# fadapt = ...\n",
        "nit = 10000\n",
        "step = 1e-6  # Initial step"
      ]
    },
    {
      "cell_type": "markdown",
      "metadata": {
        "id": "NH5vWI25Nh3Z"
      },
      "source": [
        "Using he final estimate for `w` from the adaptive step-size plot the predicted values of the `yhat` vs. `x` usfor 1000 values `x` in `[0,1]`.  On the same plot, plot `yhat` vs. `x` for the initial parameter `w=winit`.  Also, plot `yts` vs. `xts`.  You should see that gradient descent was able to improve the estimat slightly, although the initial estimate was not too bad."
      ]
    },
    {
      "cell_type": "code",
      "execution_count": null,
      "metadata": {
        "id": "1PH-XLuINh3Z"
      },
      "outputs": [],
      "source": [
        "# TODO\n",
        "# xp = np.linspace(...)\n",
        "# yhat = ...\n",
        "# plot(...)"
      ]
    },
    {
      "cell_type": "markdown",
      "metadata": {
        "id": "a4glitCRNh3Z"
      },
      "source": [
        "## Momentum Gradient Descent\n",
        "\n",
        "This section is bonus.\n",
        "\n",
        "One way to improve gradient descent is to use *momentum*.  In momentum gradient descent, the update rule is:\n",
        "\n",
        "    f, fgrad = feval(w,...)\n",
        "    z = beta*z + fgrad\n",
        "    w = w - step*z\n",
        "    \n",
        "This is similar to gradient descent, except that there is a second order term on the gradient.  Implement this algorithm with `beta = 0.99` and `step=1e-3`.   Compare the convergence of the loss function with gradient descent.  "
      ]
    },
    {
      "cell_type": "code",
      "execution_count": null,
      "metadata": {
        "id": "bUwwvKXKNh3Z"
      },
      "outputs": [],
      "source": [
        "# TODO\n",
        "nit = 1000\n",
        "step = 1e-3\n",
        "beta = 0.99"
      ]
    },
    {
      "cell_type": "code",
      "execution_count": null,
      "metadata": {
        "id": "HzO0B3_wNh3Z"
      },
      "outputs": [],
      "source": [
        "# TODO\n",
        "# plot yhat vs. x"
      ]
    },
    {
      "cell_type": "markdown",
      "metadata": {
        "id": "ymPm6JoyNh3Z"
      },
      "source": [
        "## Beyond This Lab\n",
        "In this lab, we have just touched at some of the ideas in optimization.  There are several other important algorithms that you can explore:\n",
        "* [Levenberg-Marquardt](https://en.wikipedia.org/wiki/Levenberg%E2%80%93Marquardt_algorithm) method for non-linear least squares\n",
        "* Newton's method\n",
        "* More difficult non-linear least squares problems."
      ]
    },
    {
      "cell_type": "code",
      "execution_count": null,
      "metadata": {
        "id": "VuJwcACINh3Z"
      },
      "outputs": [],
      "source": []
    }
  ],
  "metadata": {
    "kernelspec": {
      "display_name": "Python 3",
      "language": "python",
      "name": "python3"
    },
    "language_info": {
      "codemirror_mode": {
        "name": "ipython",
        "version": 3
      },
      "file_extension": ".py",
      "mimetype": "text/x-python",
      "name": "python",
      "nbconvert_exporter": "python",
      "pygments_lexer": "ipython3",
      "version": "3.8.3"
    },
    "colab": {
      "provenance": []
    }
  },
  "nbformat": 4,
  "nbformat_minor": 0
}